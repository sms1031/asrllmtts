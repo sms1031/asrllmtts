{
 "cells": [
  {
   "cell_type": "code",
   "execution_count": 6,
   "metadata": {},
   "outputs": [
    {
     "name": "stdout",
     "output_type": "stream",
     "text": [
      "funasr version: 1.1.12.\n",
      "Check update of funasr, and it would cost few times. You may disable it by set `disable_update=True` in AutoModel\n",
      "New version is available: 1.2.4.\n",
      "Please use the command \"pip install -U funasr\" to upgrade.\n"
     ]
    },
    {
     "name": "stderr",
     "output_type": "stream",
     "text": [
      "rtf_avg: 0.008: 100%|\u001b[34m██████████\u001b[0m| 1/1 [00:00<00:00, 18.29it/s]                                                                                          "
     ]
    },
    {
     "name": "stdout",
     "output_type": "stream",
     "text": [
      "欢迎大家来体验达摩院推出的语音识别模型。\n"
     ]
    },
    {
     "name": "stderr",
     "output_type": "stream",
     "text": [
      "\n"
     ]
    }
   ],
   "source": [
    "from funasr import AutoModel\n",
    "from funasr.utils.postprocess_utils import rich_transcription_postprocess\n",
    "\n",
    "model_dir = \"/root/work/work_asrllmtts/model/iic/SenseVoiceSmall\"\n",
    "\n",
    "model = AutoModel(\n",
    "    model=model_dir,\n",
    "    # vad_model=\"fsmn-vad\",\n",
    "    vad_kwargs={\"max_single_segment_time\": 30000},\n",
    "    device=\"cuda:0\",\n",
    ")\n",
    "\n",
    "# en\n",
    "res = model.generate(\n",
    "    input='/root/work/work_asrllmtts/asr_example_zh.wav',\n",
    "    cache={},\n",
    "    language=\"auto\",  # \"zn\", \"en\", \"yue\", \"ja\", \"ko\", \"nospeech\"\n",
    "    use_itn=True,\n",
    "    batch_size_s=60,\n",
    "    merge_vad=True,  #\n",
    "    merge_length_s=15,\n",
    ")\n",
    "text = rich_transcription_postprocess(res[0][\"text\"])\n",
    "print(text)"
   ]
  },
  {
   "cell_type": "code",
   "execution_count": 5,
   "metadata": {},
   "outputs": [
    {
     "name": "stdout",
     "output_type": "stream",
     "text": [
      "funasr version: 1.1.12.\n",
      "Check update of funasr, and it would cost few times. You may disable it by set `disable_update=True` in AutoModel\n",
      "New version is available: 1.2.4.\n",
      "Please use the command \"pip install -U funasr\" to upgrade.\n"
     ]
    },
    {
     "name": "stderr",
     "output_type": "stream",
     "text": [
      "rtf_avg: 0.009: 100%|\u001b[34m██████████\u001b[0m| 1/1 [00:00<00:00, 16.61it/s]                                                                                          "
     ]
    },
    {
     "name": "stdout",
     "output_type": "stream",
     "text": [
      "[{'key': 'asr_example_zh', 'text': '<|zh|><|NEUTRAL|><|Speech|><|woitn|>欢迎大家来体验达摩院推出的语音识别模型'}]\n",
      "欢迎大家来体验达摩院推出的语音识别模型\n"
     ]
    },
    {
     "name": "stderr",
     "output_type": "stream",
     "text": [
      "\n"
     ]
    }
   ],
   "source": [
    "#!/usr/bin/env python3\n",
    "# -*- encoding: utf-8 -*-\n",
    "# Copyright FunASR (https://github.com/alibaba-damo-academy/FunASR). All Rights Reserved.\n",
    "#  MIT License  (https://opensource.org/licenses/MIT)\n",
    "\n",
    "import sys\n",
    "from funasr import AutoModel\n",
    "\n",
    "model_dir = \"/root/work/work_asrllmtts/model/iic/SenseVoiceSmall\"\n",
    "\n",
    "input_file = (\n",
    "    '/root/work/work_asrllmtts/asr_example_zh.wav'\n",
    ")\n",
    "\n",
    "model = AutoModel(\n",
    "    model=model_dir,\n",
    "    # trust_remote_code=True,\n",
    ")\n",
    "\n",
    "res = model.generate(\n",
    "    input=input_file,\n",
    "    cache={},\n",
    "    language=\"auto\", # \"zn\", \"en\", \"yue\", \"ja\", \"ko\", \"nospeech\"\n",
    "    use_itn=False,\n",
    ")\n",
    "\n",
    "print(res)\n",
    "# import pdb; pdb.set_trace()\n",
    "print(res[0]['text'].split(\">\")[-1])"
   ]
  },
  {
   "cell_type": "code",
   "execution_count": 1,
   "metadata": {},
   "outputs": [
    {
     "name": "stdout",
     "output_type": "stream",
     "text": [
      "funasr version: 1.1.12.\n",
      "Check update of funasr, and it would cost few times. You may disable it by set `disable_update=True` in AutoModel\n",
      "New version is available: 1.2.4.\n",
      "Please use the command \"pip install -U funasr\" to upgrade.\n",
      "Detect model requirements, begin to install it: /root/work/work_asrllmtts/model/Whisper-large-v3-turbo/requirements.txt\n",
      "install model requirements successfully\n"
     ]
    },
    {
     "name": "stderr",
     "output_type": "stream",
     "text": [
      "rtf_avg: 1.277: 100%|\u001b[34m██████████\u001b[0m| 1/1 [00:07<00:00,  7.08s/it]                                                                                          "
     ]
    },
    {
     "name": "stdout",
     "output_type": "stream",
     "text": [
      "[{'key': 'asr_example_zh', 'text': '欢迎大家来体验达摩院推出的语音识别模型'}]\n",
      "欢迎大家来体验达摩院推出的语音识别模型\n"
     ]
    },
    {
     "name": "stderr",
     "output_type": "stream",
     "text": [
      "\n"
     ]
    }
   ],
   "source": [
    "#!/usr/bin/env python3\n",
    "# -*- encoding: utf-8 -*-\n",
    "# Copyright FunASR (https://github.com/alibaba-damo-academy/FunASR). All Rights Reserved.\n",
    "#  MIT License  (https://opensource.org/licenses/MIT)\n",
    "\n",
    "import sys\n",
    "from funasr import AutoModel\n",
    "\n",
    "model_dir = \"/root/work/work_asrllmtts/model/Whisper-large-v3-turbo\"\n",
    "\n",
    "input_file = (\n",
    "    '/root/work/work_asrllmtts/asr_example_zh.wav'\n",
    ")\n",
    "\n",
    "model = AutoModel(\n",
    "    model=model_dir,\n",
    "    # trust_remote_code=True,\n",
    ")\n",
    "\n",
    "res = model.generate(\n",
    "    input=input_file,\n",
    "    cache={},\n",
    "    language=\"auto\", # \"zn\", \"en\", \"yue\", \"ja\", \"ko\", \"nospeech\"\n",
    "    use_itn=False,\n",
    ")\n",
    "\n",
    "print(res)\n",
    "# import pdb; pdb.set_trace()\n",
    "print(res[0]['text'].split(\">\")[-1])"
   ]
  },
  {
   "cell_type": "code",
   "execution_count": null,
   "metadata": {},
   "outputs": [
    {
     "name": "stdout",
     "output_type": "stream",
     "text": [
      "funasr version: 1.1.12.\n",
      "Check update of funasr, and it would cost few times. You may disable it by set `disable_update=True` in AutoModel\n",
      "New version is available: 1.2.4.\n",
      "Please use the command \"pip install -U funasr\" to upgrade.\n"
     ]
    },
    {
     "name": "stderr",
     "output_type": "stream",
     "text": [
      "rtf_avg: 0.026: 100%|\u001b[34m██████████\u001b[0m| 1/1 [00:00<00:00,  6.40it/s]                                                                                          "
     ]
    },
    {
     "name": "stdout",
     "output_type": "stream",
     "text": [
      "欢迎大家来体验达摩院推出的语音识别模型\n"
     ]
    },
    {
     "name": "stderr",
     "output_type": "stream",
     "text": [
      "\n"
     ]
    }
   ],
   "source": [
    "from funasr import AutoModel\n",
    "from funasr.utils.postprocess_utils import rich_transcription_postprocess\n",
    "\n",
    "model_dir = \"/root/work/work_asrllmtts/model/iic/SenseVoiceSmall\"\n",
    "\n",
    "model = AutoModel(\n",
    "    model=model_dir,\n",
    "    # vad_model=\"fsmn-vad\",\n",
    "    vad_kwargs={\"max_single_segment_time\": 30000},\n",
    "    device=\"cuda:0\",\n",
    ")\n",
    "\n",
    "# en\n",
    "res = model.generate(\n",
    "    input='/root/work/work_asrllmtts/asr_example_zh.wav',\n",
    "    cache={},\n",
    "    language=\"auto\",  # \"zn\", \"en\", \"yue\", \"ja\", \"ko\", \"nospeech\"\n",
    "    use_itn=True,\n",
    "    batch_size_s=60,\n",
    "    merge_vad=True,  #\n",
    "    merge_length_s=15,\n",
    ")\n",
    "text = rich_transcription_postprocess(res[0][\"text\"])\n",
    "print(text)"
   ]
  },
  {
   "cell_type": "code",
   "execution_count": null,
   "metadata": {},
   "outputs": [],
   "source": [
    "cd /workspace/FunASR/runtime\n",
    "nohup bash run_server.sh \\\n",
    "  --model-dir /root/work/work_asrllmtts/model/iic/SenseVoiceSmall \\\n",
    "  --certfile  ../../../ssl_key/server.crt \\\n",
    "  --keyfile ../../../ssl_key/server.key \\\n",
    "  --hotword ../../hotwords.txt  > log.txt 2>&1 &"
   ]
  },
  {
   "cell_type": "code",
   "execution_count": null,
   "metadata": {},
   "outputs": [],
   "source": [
    "python3 funasr_wss_client.py --host \"127.0.0.1\" --port 10095 --mode offline \\\n",
    "        --audio_in \"/root/work/work_asrllmtts/asr_example_zh.wav\" --output_dir \"./results\""
   ]
  }
 ],
 "metadata": {
  "kernelspec": {
   "display_name": "chatAudio",
   "language": "python",
   "name": "python3"
  },
  "language_info": {
   "codemirror_mode": {
    "name": "ipython",
    "version": 3
   },
   "file_extension": ".py",
   "mimetype": "text/x-python",
   "name": "python",
   "nbconvert_exporter": "python",
   "pygments_lexer": "ipython3",
   "version": "undefined.undefined.undefined"
  }
 },
 "nbformat": 4,
 "nbformat_minor": 2
}
